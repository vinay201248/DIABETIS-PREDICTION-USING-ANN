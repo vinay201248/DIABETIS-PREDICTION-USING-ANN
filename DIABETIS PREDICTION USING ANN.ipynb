{
 "cells": [
  {
   "cell_type": "code",
   "execution_count": 3,
   "id": "5aa54c95",
   "metadata": {},
   "outputs": [],
   "source": [
    "import numpy as np\n",
    "import pandas as pd\n",
    "import matplotlib.pyplot as plt\n",
    "import seaborn as sns"
   ]
  },
  {
   "cell_type": "code",
   "execution_count": 4,
   "id": "3de6b656",
   "metadata": {},
   "outputs": [],
   "source": [
    "df = pd.read_csv('./diabetes.csv')"
   ]
  },
  {
   "cell_type": "code",
   "execution_count": 5,
   "id": "3f3d0a2c",
   "metadata": {},
   "outputs": [
    {
     "data": {
      "text/html": [
       "<div>\n",
       "<style scoped>\n",
       "    .dataframe tbody tr th:only-of-type {\n",
       "        vertical-align: middle;\n",
       "    }\n",
       "\n",
       "    .dataframe tbody tr th {\n",
       "        vertical-align: top;\n",
       "    }\n",
       "\n",
       "    .dataframe thead th {\n",
       "        text-align: right;\n",
       "    }\n",
       "</style>\n",
       "<table border=\"1\" class=\"dataframe\">\n",
       "  <thead>\n",
       "    <tr style=\"text-align: right;\">\n",
       "      <th></th>\n",
       "      <th>Pregnancies</th>\n",
       "      <th>Glucose</th>\n",
       "      <th>BloodPressure</th>\n",
       "      <th>SkinThickness</th>\n",
       "      <th>Insulin</th>\n",
       "      <th>BMI</th>\n",
       "      <th>DiabetesPedigreeFunction</th>\n",
       "      <th>Age</th>\n",
       "      <th>Outcome</th>\n",
       "    </tr>\n",
       "  </thead>\n",
       "  <tbody>\n",
       "    <tr>\n",
       "      <th>0</th>\n",
       "      <td>6</td>\n",
       "      <td>148</td>\n",
       "      <td>72</td>\n",
       "      <td>35</td>\n",
       "      <td>0</td>\n",
       "      <td>33.6</td>\n",
       "      <td>0.627</td>\n",
       "      <td>50</td>\n",
       "      <td>1</td>\n",
       "    </tr>\n",
       "    <tr>\n",
       "      <th>1</th>\n",
       "      <td>1</td>\n",
       "      <td>85</td>\n",
       "      <td>66</td>\n",
       "      <td>29</td>\n",
       "      <td>0</td>\n",
       "      <td>26.6</td>\n",
       "      <td>0.351</td>\n",
       "      <td>31</td>\n",
       "      <td>0</td>\n",
       "    </tr>\n",
       "    <tr>\n",
       "      <th>2</th>\n",
       "      <td>8</td>\n",
       "      <td>183</td>\n",
       "      <td>64</td>\n",
       "      <td>0</td>\n",
       "      <td>0</td>\n",
       "      <td>23.3</td>\n",
       "      <td>0.672</td>\n",
       "      <td>32</td>\n",
       "      <td>1</td>\n",
       "    </tr>\n",
       "    <tr>\n",
       "      <th>3</th>\n",
       "      <td>1</td>\n",
       "      <td>89</td>\n",
       "      <td>66</td>\n",
       "      <td>23</td>\n",
       "      <td>94</td>\n",
       "      <td>28.1</td>\n",
       "      <td>0.167</td>\n",
       "      <td>21</td>\n",
       "      <td>0</td>\n",
       "    </tr>\n",
       "    <tr>\n",
       "      <th>4</th>\n",
       "      <td>0</td>\n",
       "      <td>137</td>\n",
       "      <td>40</td>\n",
       "      <td>35</td>\n",
       "      <td>168</td>\n",
       "      <td>43.1</td>\n",
       "      <td>2.288</td>\n",
       "      <td>33</td>\n",
       "      <td>1</td>\n",
       "    </tr>\n",
       "    <tr>\n",
       "      <th>...</th>\n",
       "      <td>...</td>\n",
       "      <td>...</td>\n",
       "      <td>...</td>\n",
       "      <td>...</td>\n",
       "      <td>...</td>\n",
       "      <td>...</td>\n",
       "      <td>...</td>\n",
       "      <td>...</td>\n",
       "      <td>...</td>\n",
       "    </tr>\n",
       "    <tr>\n",
       "      <th>763</th>\n",
       "      <td>10</td>\n",
       "      <td>101</td>\n",
       "      <td>76</td>\n",
       "      <td>48</td>\n",
       "      <td>180</td>\n",
       "      <td>32.9</td>\n",
       "      <td>0.171</td>\n",
       "      <td>63</td>\n",
       "      <td>0</td>\n",
       "    </tr>\n",
       "    <tr>\n",
       "      <th>764</th>\n",
       "      <td>2</td>\n",
       "      <td>122</td>\n",
       "      <td>70</td>\n",
       "      <td>27</td>\n",
       "      <td>0</td>\n",
       "      <td>36.8</td>\n",
       "      <td>0.340</td>\n",
       "      <td>27</td>\n",
       "      <td>0</td>\n",
       "    </tr>\n",
       "    <tr>\n",
       "      <th>765</th>\n",
       "      <td>5</td>\n",
       "      <td>121</td>\n",
       "      <td>72</td>\n",
       "      <td>23</td>\n",
       "      <td>112</td>\n",
       "      <td>26.2</td>\n",
       "      <td>0.245</td>\n",
       "      <td>30</td>\n",
       "      <td>0</td>\n",
       "    </tr>\n",
       "    <tr>\n",
       "      <th>766</th>\n",
       "      <td>1</td>\n",
       "      <td>126</td>\n",
       "      <td>60</td>\n",
       "      <td>0</td>\n",
       "      <td>0</td>\n",
       "      <td>30.1</td>\n",
       "      <td>0.349</td>\n",
       "      <td>47</td>\n",
       "      <td>1</td>\n",
       "    </tr>\n",
       "    <tr>\n",
       "      <th>767</th>\n",
       "      <td>1</td>\n",
       "      <td>93</td>\n",
       "      <td>70</td>\n",
       "      <td>31</td>\n",
       "      <td>0</td>\n",
       "      <td>30.4</td>\n",
       "      <td>0.315</td>\n",
       "      <td>23</td>\n",
       "      <td>0</td>\n",
       "    </tr>\n",
       "  </tbody>\n",
       "</table>\n",
       "<p>768 rows × 9 columns</p>\n",
       "</div>"
      ],
      "text/plain": [
       "     Pregnancies  Glucose  BloodPressure  SkinThickness  Insulin   BMI  \\\n",
       "0              6      148             72             35        0  33.6   \n",
       "1              1       85             66             29        0  26.6   \n",
       "2              8      183             64              0        0  23.3   \n",
       "3              1       89             66             23       94  28.1   \n",
       "4              0      137             40             35      168  43.1   \n",
       "..           ...      ...            ...            ...      ...   ...   \n",
       "763           10      101             76             48      180  32.9   \n",
       "764            2      122             70             27        0  36.8   \n",
       "765            5      121             72             23      112  26.2   \n",
       "766            1      126             60              0        0  30.1   \n",
       "767            1       93             70             31        0  30.4   \n",
       "\n",
       "     DiabetesPedigreeFunction  Age  Outcome  \n",
       "0                       0.627   50        1  \n",
       "1                       0.351   31        0  \n",
       "2                       0.672   32        1  \n",
       "3                       0.167   21        0  \n",
       "4                       2.288   33        1  \n",
       "..                        ...  ...      ...  \n",
       "763                     0.171   63        0  \n",
       "764                     0.340   27        0  \n",
       "765                     0.245   30        0  \n",
       "766                     0.349   47        1  \n",
       "767                     0.315   23        0  \n",
       "\n",
       "[768 rows x 9 columns]"
      ]
     },
     "execution_count": 5,
     "metadata": {},
     "output_type": "execute_result"
    }
   ],
   "source": [
    "df"
   ]
  },
  {
   "cell_type": "code",
   "execution_count": 6,
   "id": "ef9ed962",
   "metadata": {},
   "outputs": [],
   "source": [
    "x = df.drop(['Outcome'],axis = 1)"
   ]
  },
  {
   "cell_type": "code",
   "execution_count": 7,
   "id": "2f2d68bb",
   "metadata": {},
   "outputs": [],
   "source": [
    "y = df['Outcome']"
   ]
  },
  {
   "cell_type": "code",
   "execution_count": 8,
   "id": "16cac394",
   "metadata": {},
   "outputs": [],
   "source": [
    "import sklearn"
   ]
  },
  {
   "cell_type": "code",
   "execution_count": 9,
   "id": "ea437958",
   "metadata": {},
   "outputs": [],
   "source": [
    "from sklearn.model_selection import train_test_split"
   ]
  },
  {
   "cell_type": "code",
   "execution_count": 10,
   "id": "77802125",
   "metadata": {},
   "outputs": [],
   "source": [
    "x_train, x_test, y_train, y_test = train_test_split(x, y, test_size=0.20, random_state=42)"
   ]
  },
  {
   "cell_type": "code",
   "execution_count": 11,
   "id": "59265585",
   "metadata": {},
   "outputs": [
    {
     "data": {
      "text/plain": [
       "(614, 614)"
      ]
     },
     "execution_count": 11,
     "metadata": {},
     "output_type": "execute_result"
    }
   ],
   "source": [
    "len(x_train),len(y_train)"
   ]
  },
  {
   "cell_type": "code",
   "execution_count": 12,
   "id": "49a5ca70",
   "metadata": {},
   "outputs": [
    {
     "data": {
      "text/plain": [
       "(154, 154)"
      ]
     },
     "execution_count": 12,
     "metadata": {},
     "output_type": "execute_result"
    }
   ],
   "source": [
    "len(x_test),len(y_test)"
   ]
  },
  {
   "cell_type": "markdown",
   "id": "2c2f14cd",
   "metadata": {},
   "source": [
    "# ann"
   ]
  },
  {
   "cell_type": "code",
   "execution_count": 13,
   "id": "cd396a56",
   "metadata": {},
   "outputs": [],
   "source": [
    "import tensorflow as tf\n",
    "import keras \n",
    "from keras.models import Sequential\n",
    "from keras.layers import Dense\n",
    "from keras.layers import Dropout"
   ]
  },
  {
   "cell_type": "code",
   "execution_count": 14,
   "id": "b74b7b4c",
   "metadata": {},
   "outputs": [],
   "source": [
    "model = Sequential()"
   ]
  },
  {
   "cell_type": "code",
   "execution_count": 15,
   "id": "cecdbbc7",
   "metadata": {},
   "outputs": [],
   "source": [
    "input_layer = Dense(activation='relu',input_dim=10,kernel_initializer='uniform',units=10)"
   ]
  },
  {
   "cell_type": "code",
   "execution_count": 16,
   "id": "53130c6e",
   "metadata": {},
   "outputs": [],
   "source": [
    "# now buliding architecture"
   ]
  },
  {
   "cell_type": "code",
   "execution_count": 17,
   "id": "bcf5562e",
   "metadata": {},
   "outputs": [],
   "source": [
    "#1st hidden layer\n",
    "model.add(Dense(units=1000,activation='relu',kernel_initializer='uniform'))\n",
    "# hidden layer 2\n",
    "model.add(Dense(units=500,activation='relu',kernel_initializer='uniform'))\n",
    "#hidden layer 3\n",
    "model.add(Dense(units=250,activation='relu',kernel_initializer='uniform'))\n",
    "#hidden layer 4\n",
    "model.add(Dense(units=100,activation='relu',kernel_initializer='uniform'))\n",
    "#hidden layer 5\n",
    "model.add(Dense(units=1,activation='sigmoid',kernel_initializer='uniform'))"
   ]
  },
  {
   "cell_type": "code",
   "execution_count": 18,
   "id": "a30753d4",
   "metadata": {},
   "outputs": [],
   "source": [
    "#compile ANN\n",
    "model.compile(optimizer='adam',loss='binary_crossentropy',metrics= 'accuracy')"
   ]
  },
  {
   "cell_type": "code",
   "execution_count": 19,
   "id": "8699b946",
   "metadata": {
    "scrolled": true
   },
   "outputs": [
    {
     "name": "stderr",
     "output_type": "stream",
     "text": [
      "C:\\Users\\vinay vk\\anaconda3\\envs\\lig\\lib\\site-packages\\keras\\engine\\data_adapter.py:1699: FutureWarning: The behavior of `series[i:j]` with an integer-dtype index is deprecated. In a future version, this will be treated as *label-based* indexing, consistent with e.g. `series[i]` lookups. To retain the old behavior, use `series.iloc[i:j]`. To get the future behavior, use `series.loc[i:j]`.\n",
      "  return t[start:end]\n"
     ]
    },
    {
     "name": "stdout",
     "output_type": "stream",
     "text": [
      "Epoch 1/100\n",
      "56/56 [==============================] - 4s 20ms/step - loss: 0.6923 - accuracy: 0.6014 - val_loss: 0.6992 - val_accuracy: 0.5968\n",
      "Epoch 2/100\n",
      "56/56 [==============================] - 1s 12ms/step - loss: 0.6623 - accuracy: 0.6612 - val_loss: 0.7735 - val_accuracy: 0.5968\n",
      "Epoch 3/100\n",
      "56/56 [==============================] - 1s 13ms/step - loss: 0.6512 - accuracy: 0.6558 - val_loss: 0.6275 - val_accuracy: 0.5968\n",
      "Epoch 4/100\n",
      "56/56 [==============================] - 1s 10ms/step - loss: 0.6377 - accuracy: 0.6812 - val_loss: 0.6094 - val_accuracy: 0.7742\n",
      "Epoch 5/100\n",
      "56/56 [==============================] - 1s 10ms/step - loss: 0.6115 - accuracy: 0.6612 - val_loss: 0.6049 - val_accuracy: 0.6774\n",
      "Epoch 6/100\n",
      "56/56 [==============================] - 1s 10ms/step - loss: 0.6231 - accuracy: 0.6739 - val_loss: 0.6696 - val_accuracy: 0.6129\n",
      "Epoch 7/100\n",
      "56/56 [==============================] - 1s 10ms/step - loss: 0.6377 - accuracy: 0.6576 - val_loss: 0.6214 - val_accuracy: 0.5968\n",
      "Epoch 8/100\n",
      "56/56 [==============================] - 1s 9ms/step - loss: 0.6009 - accuracy: 0.6775 - val_loss: 0.5823 - val_accuracy: 0.7419\n",
      "Epoch 9/100\n",
      "56/56 [==============================] - 1s 11ms/step - loss: 0.6010 - accuracy: 0.6848 - val_loss: 0.6194 - val_accuracy: 0.6290\n",
      "Epoch 10/100\n",
      "56/56 [==============================] - 1s 11ms/step - loss: 0.6017 - accuracy: 0.6830 - val_loss: 0.5747 - val_accuracy: 0.7097\n",
      "Epoch 11/100\n",
      "56/56 [==============================] - 1s 10ms/step - loss: 0.5854 - accuracy: 0.6830 - val_loss: 0.5930 - val_accuracy: 0.6129\n",
      "Epoch 12/100\n",
      "56/56 [==============================] - 1s 10ms/step - loss: 0.5926 - accuracy: 0.6685 - val_loss: 0.5737 - val_accuracy: 0.7258\n",
      "Epoch 13/100\n",
      "56/56 [==============================] - 1s 10ms/step - loss: 0.5893 - accuracy: 0.6866 - val_loss: 0.5842 - val_accuracy: 0.6613\n",
      "Epoch 14/100\n",
      "56/56 [==============================] - 1s 10ms/step - loss: 0.5867 - accuracy: 0.7138 - val_loss: 0.5430 - val_accuracy: 0.7419\n",
      "Epoch 15/100\n",
      "56/56 [==============================] - 1s 11ms/step - loss: 0.5714 - accuracy: 0.7192 - val_loss: 0.5979 - val_accuracy: 0.6129\n",
      "Epoch 16/100\n",
      "56/56 [==============================] - 1s 10ms/step - loss: 0.6041 - accuracy: 0.6975 - val_loss: 0.5773 - val_accuracy: 0.7419\n",
      "Epoch 17/100\n",
      "56/56 [==============================] - 1s 10ms/step - loss: 0.5769 - accuracy: 0.7174 - val_loss: 0.5814 - val_accuracy: 0.6613\n",
      "Epoch 18/100\n",
      "56/56 [==============================] - 1s 10ms/step - loss: 0.5826 - accuracy: 0.6938 - val_loss: 0.5875 - val_accuracy: 0.6935\n",
      "Epoch 19/100\n",
      "56/56 [==============================] - 1s 10ms/step - loss: 0.5631 - accuracy: 0.7210 - val_loss: 0.5362 - val_accuracy: 0.7097\n",
      "Epoch 20/100\n",
      "56/56 [==============================] - 0s 9ms/step - loss: 0.5782 - accuracy: 0.7011 - val_loss: 0.5520 - val_accuracy: 0.7581\n",
      "Epoch 21/100\n",
      "56/56 [==============================] - 1s 10ms/step - loss: 0.5446 - accuracy: 0.7373 - val_loss: 0.5334 - val_accuracy: 0.6935\n",
      "Epoch 22/100\n",
      "56/56 [==============================] - 1s 10ms/step - loss: 0.5510 - accuracy: 0.7192 - val_loss: 0.5792 - val_accuracy: 0.6774\n",
      "Epoch 23/100\n",
      "56/56 [==============================] - 1s 10ms/step - loss: 0.5625 - accuracy: 0.7283 - val_loss: 0.5650 - val_accuracy: 0.6613\n",
      "Epoch 24/100\n",
      "56/56 [==============================] - 1s 11ms/step - loss: 0.5656 - accuracy: 0.6902 - val_loss: 0.5818 - val_accuracy: 0.6774\n",
      "Epoch 25/100\n",
      "56/56 [==============================] - 1s 10ms/step - loss: 0.5574 - accuracy: 0.7120 - val_loss: 0.5178 - val_accuracy: 0.7581\n",
      "Epoch 26/100\n",
      "56/56 [==============================] - 1s 10ms/step - loss: 0.5516 - accuracy: 0.7156 - val_loss: 0.5363 - val_accuracy: 0.7581\n",
      "Epoch 27/100\n",
      "56/56 [==============================] - 1s 10ms/step - loss: 0.5563 - accuracy: 0.7210 - val_loss: 0.5561 - val_accuracy: 0.7258\n",
      "Epoch 28/100\n",
      "56/56 [==============================] - 1s 9ms/step - loss: 0.5359 - accuracy: 0.7283 - val_loss: 0.5302 - val_accuracy: 0.7258\n",
      "Epoch 29/100\n",
      "56/56 [==============================] - 1s 10ms/step - loss: 0.5446 - accuracy: 0.7409 - val_loss: 0.5458 - val_accuracy: 0.7258\n",
      "Epoch 30/100\n",
      "56/56 [==============================] - 1s 10ms/step - loss: 0.5392 - accuracy: 0.7174 - val_loss: 0.5364 - val_accuracy: 0.7581\n",
      "Epoch 31/100\n",
      "56/56 [==============================] - 1s 10ms/step - loss: 0.5285 - accuracy: 0.7283 - val_loss: 0.5381 - val_accuracy: 0.6774\n",
      "Epoch 32/100\n",
      "56/56 [==============================] - 1s 9ms/step - loss: 0.5549 - accuracy: 0.7301 - val_loss: 0.5312 - val_accuracy: 0.7742\n",
      "Epoch 33/100\n",
      "56/56 [==============================] - 1s 9ms/step - loss: 0.5298 - accuracy: 0.7319 - val_loss: 0.5250 - val_accuracy: 0.7258\n",
      "Epoch 34/100\n",
      "56/56 [==============================] - 1s 10ms/step - loss: 0.5383 - accuracy: 0.7283 - val_loss: 0.5825 - val_accuracy: 0.6613\n",
      "Epoch 35/100\n",
      "56/56 [==============================] - 1s 10ms/step - loss: 0.5739 - accuracy: 0.6957 - val_loss: 0.5087 - val_accuracy: 0.7742\n",
      "Epoch 36/100\n",
      "56/56 [==============================] - 1s 10ms/step - loss: 0.5390 - accuracy: 0.7246 - val_loss: 0.5456 - val_accuracy: 0.7097\n",
      "Epoch 37/100\n",
      "56/56 [==============================] - 1s 9ms/step - loss: 0.5845 - accuracy: 0.7011 - val_loss: 0.6177 - val_accuracy: 0.6290\n",
      "Epoch 38/100\n",
      "56/56 [==============================] - 1s 10ms/step - loss: 0.5711 - accuracy: 0.7246 - val_loss: 0.5879 - val_accuracy: 0.7419\n",
      "Epoch 39/100\n",
      "56/56 [==============================] - 1s 10ms/step - loss: 0.5846 - accuracy: 0.6975 - val_loss: 0.5310 - val_accuracy: 0.6774\n",
      "Epoch 40/100\n",
      "56/56 [==============================] - 1s 9ms/step - loss: 0.5469 - accuracy: 0.7120 - val_loss: 0.5362 - val_accuracy: 0.8065\n",
      "Epoch 41/100\n",
      "56/56 [==============================] - 1s 9ms/step - loss: 0.5355 - accuracy: 0.7246 - val_loss: 0.5379 - val_accuracy: 0.6613\n",
      "Epoch 42/100\n",
      "56/56 [==============================] - 1s 10ms/step - loss: 0.5528 - accuracy: 0.7337 - val_loss: 0.5622 - val_accuracy: 0.7419\n",
      "Epoch 43/100\n",
      "56/56 [==============================] - 1s 10ms/step - loss: 0.5205 - accuracy: 0.7319 - val_loss: 0.5377 - val_accuracy: 0.7258\n",
      "Epoch 44/100\n",
      "56/56 [==============================] - 1s 10ms/step - loss: 0.5333 - accuracy: 0.7319 - val_loss: 0.5316 - val_accuracy: 0.7581\n",
      "Epoch 45/100\n",
      "56/56 [==============================] - 1s 10ms/step - loss: 0.5168 - accuracy: 0.7246 - val_loss: 0.5243 - val_accuracy: 0.7419\n",
      "Epoch 46/100\n",
      "56/56 [==============================] - 1s 9ms/step - loss: 0.5074 - accuracy: 0.7591 - val_loss: 0.5077 - val_accuracy: 0.7097\n",
      "Epoch 47/100\n",
      "56/56 [==============================] - 1s 10ms/step - loss: 0.5142 - accuracy: 0.7446 - val_loss: 0.5303 - val_accuracy: 0.7258\n",
      "Epoch 48/100\n",
      "56/56 [==============================] - 1s 9ms/step - loss: 0.5181 - accuracy: 0.7337 - val_loss: 0.5802 - val_accuracy: 0.7581\n",
      "Epoch 49/100\n",
      "56/56 [==============================] - 1s 9ms/step - loss: 0.5207 - accuracy: 0.7210 - val_loss: 0.5434 - val_accuracy: 0.6935\n",
      "Epoch 50/100\n",
      "56/56 [==============================] - 1s 9ms/step - loss: 0.5228 - accuracy: 0.7446 - val_loss: 0.5285 - val_accuracy: 0.7581\n",
      "Epoch 51/100\n",
      "56/56 [==============================] - 1s 10ms/step - loss: 0.5239 - accuracy: 0.7373 - val_loss: 0.5090 - val_accuracy: 0.7581\n",
      "Epoch 52/100\n",
      "56/56 [==============================] - 1s 10ms/step - loss: 0.5059 - accuracy: 0.7464 - val_loss: 0.5372 - val_accuracy: 0.7419\n",
      "Epoch 53/100\n",
      "56/56 [==============================] - 1s 9ms/step - loss: 0.5048 - accuracy: 0.7373 - val_loss: 0.5373 - val_accuracy: 0.7581\n",
      "Epoch 54/100\n",
      "56/56 [==============================] - 1s 10ms/step - loss: 0.5096 - accuracy: 0.7500 - val_loss: 0.5501 - val_accuracy: 0.7419\n",
      "Epoch 55/100\n",
      "56/56 [==============================] - 1s 9ms/step - loss: 0.4993 - accuracy: 0.7554 - val_loss: 0.5398 - val_accuracy: 0.7419\n",
      "Epoch 56/100\n",
      "56/56 [==============================] - 1s 10ms/step - loss: 0.4964 - accuracy: 0.7337 - val_loss: 0.5049 - val_accuracy: 0.7258\n",
      "Epoch 57/100\n",
      "56/56 [==============================] - 1s 10ms/step - loss: 0.4944 - accuracy: 0.7591 - val_loss: 0.4957 - val_accuracy: 0.7419\n",
      "Epoch 58/100\n"
     ]
    },
    {
     "name": "stdout",
     "output_type": "stream",
     "text": [
      "56/56 [==============================] - 1s 10ms/step - loss: 0.4898 - accuracy: 0.7536 - val_loss: 0.5343 - val_accuracy: 0.7258\n",
      "Epoch 59/100\n",
      "56/56 [==============================] - 1s 9ms/step - loss: 0.4731 - accuracy: 0.7808 - val_loss: 0.4993 - val_accuracy: 0.7581\n",
      "Epoch 60/100\n",
      "56/56 [==============================] - 1s 10ms/step - loss: 0.4819 - accuracy: 0.7446 - val_loss: 0.5834 - val_accuracy: 0.7097\n",
      "Epoch 61/100\n",
      "56/56 [==============================] - 1s 10ms/step - loss: 0.4897 - accuracy: 0.7591 - val_loss: 0.5633 - val_accuracy: 0.7258\n",
      "Epoch 62/100\n",
      "56/56 [==============================] - 1s 10ms/step - loss: 0.4900 - accuracy: 0.7554 - val_loss: 0.5104 - val_accuracy: 0.7581\n",
      "Epoch 63/100\n",
      "56/56 [==============================] - 1s 9ms/step - loss: 0.4781 - accuracy: 0.7663 - val_loss: 0.4954 - val_accuracy: 0.7258\n",
      "Epoch 64/100\n",
      "56/56 [==============================] - 1s 10ms/step - loss: 0.4709 - accuracy: 0.7627 - val_loss: 0.5796 - val_accuracy: 0.7097\n",
      "Epoch 65/100\n",
      "56/56 [==============================] - 1s 9ms/step - loss: 0.4682 - accuracy: 0.7754 - val_loss: 0.5161 - val_accuracy: 0.7903\n",
      "Epoch 66/100\n",
      "56/56 [==============================] - 1s 9ms/step - loss: 0.4841 - accuracy: 0.7627 - val_loss: 0.5263 - val_accuracy: 0.6935\n",
      "Epoch 67/100\n",
      "56/56 [==============================] - 1s 9ms/step - loss: 0.4733 - accuracy: 0.7609 - val_loss: 0.5577 - val_accuracy: 0.7258\n",
      "Epoch 68/100\n",
      "56/56 [==============================] - 2s 28ms/step - loss: 0.4695 - accuracy: 0.7536 - val_loss: 0.6242 - val_accuracy: 0.7097\n",
      "Epoch 69/100\n",
      "56/56 [==============================] - 0s 8ms/step - loss: 0.4768 - accuracy: 0.7536 - val_loss: 0.5246 - val_accuracy: 0.7097\n",
      "Epoch 70/100\n",
      "56/56 [==============================] - 0s 7ms/step - loss: 0.4752 - accuracy: 0.7536 - val_loss: 0.5272 - val_accuracy: 0.7097\n",
      "Epoch 71/100\n",
      "56/56 [==============================] - 0s 6ms/step - loss: 0.4645 - accuracy: 0.7681 - val_loss: 0.5560 - val_accuracy: 0.7742\n",
      "Epoch 72/100\n",
      "56/56 [==============================] - 0s 6ms/step - loss: 0.4812 - accuracy: 0.7591 - val_loss: 0.4756 - val_accuracy: 0.7258\n",
      "Epoch 73/100\n",
      "56/56 [==============================] - 0s 7ms/step - loss: 0.4601 - accuracy: 0.7699 - val_loss: 0.4872 - val_accuracy: 0.7419\n",
      "Epoch 74/100\n",
      "56/56 [==============================] - 0s 6ms/step - loss: 0.4666 - accuracy: 0.7736 - val_loss: 0.5255 - val_accuracy: 0.7581\n",
      "Epoch 75/100\n",
      "56/56 [==============================] - 0s 6ms/step - loss: 0.4519 - accuracy: 0.7808 - val_loss: 0.5568 - val_accuracy: 0.7742\n",
      "Epoch 76/100\n",
      "56/56 [==============================] - 0s 6ms/step - loss: 0.4392 - accuracy: 0.7609 - val_loss: 0.4978 - val_accuracy: 0.7258\n",
      "Epoch 77/100\n",
      "56/56 [==============================] - 0s 7ms/step - loss: 0.4549 - accuracy: 0.7826 - val_loss: 0.5276 - val_accuracy: 0.7419\n",
      "Epoch 78/100\n",
      "56/56 [==============================] - 0s 6ms/step - loss: 0.4534 - accuracy: 0.7717 - val_loss: 0.5204 - val_accuracy: 0.8065\n",
      "Epoch 79/100\n",
      "56/56 [==============================] - 0s 6ms/step - loss: 0.4435 - accuracy: 0.7772 - val_loss: 0.4817 - val_accuracy: 0.7258\n",
      "Epoch 80/100\n",
      "56/56 [==============================] - 0s 6ms/step - loss: 0.4432 - accuracy: 0.7681 - val_loss: 0.4797 - val_accuracy: 0.7903\n",
      "Epoch 81/100\n",
      "56/56 [==============================] - 0s 6ms/step - loss: 0.4416 - accuracy: 0.7844 - val_loss: 0.5141 - val_accuracy: 0.7581\n",
      "Epoch 82/100\n",
      "56/56 [==============================] - 0s 6ms/step - loss: 0.4399 - accuracy: 0.7591 - val_loss: 0.7356 - val_accuracy: 0.7419\n",
      "Epoch 83/100\n",
      "56/56 [==============================] - 0s 6ms/step - loss: 0.4808 - accuracy: 0.7754 - val_loss: 0.4777 - val_accuracy: 0.7581\n",
      "Epoch 84/100\n",
      "56/56 [==============================] - 0s 7ms/step - loss: 0.4424 - accuracy: 0.7790 - val_loss: 0.4817 - val_accuracy: 0.7419\n",
      "Epoch 85/100\n",
      "56/56 [==============================] - 0s 6ms/step - loss: 0.4371 - accuracy: 0.7880 - val_loss: 0.5225 - val_accuracy: 0.7258\n",
      "Epoch 86/100\n",
      "56/56 [==============================] - 0s 6ms/step - loss: 0.4182 - accuracy: 0.7917 - val_loss: 0.6804 - val_accuracy: 0.7581\n",
      "Epoch 87/100\n",
      "56/56 [==============================] - 0s 6ms/step - loss: 0.4757 - accuracy: 0.7645 - val_loss: 0.5267 - val_accuracy: 0.7097\n",
      "Epoch 88/100\n",
      "56/56 [==============================] - 0s 6ms/step - loss: 0.4448 - accuracy: 0.7754 - val_loss: 0.5330 - val_accuracy: 0.7581\n",
      "Epoch 89/100\n",
      "56/56 [==============================] - 0s 6ms/step - loss: 0.4309 - accuracy: 0.7989 - val_loss: 0.5962 - val_accuracy: 0.7742\n",
      "Epoch 90/100\n",
      "56/56 [==============================] - 0s 6ms/step - loss: 0.4209 - accuracy: 0.7971 - val_loss: 0.5515 - val_accuracy: 0.8065\n",
      "Epoch 91/100\n",
      "56/56 [==============================] - 0s 8ms/step - loss: 0.4207 - accuracy: 0.7917 - val_loss: 0.5154 - val_accuracy: 0.7742\n",
      "Epoch 92/100\n",
      "56/56 [==============================] - 0s 7ms/step - loss: 0.4340 - accuracy: 0.7862 - val_loss: 0.5291 - val_accuracy: 0.6935\n",
      "Epoch 93/100\n",
      "56/56 [==============================] - 0s 8ms/step - loss: 0.5163 - accuracy: 0.7717 - val_loss: 0.5066 - val_accuracy: 0.7097\n",
      "Epoch 94/100\n",
      "56/56 [==============================] - 0s 8ms/step - loss: 0.4393 - accuracy: 0.7826 - val_loss: 0.4893 - val_accuracy: 0.7903\n",
      "Epoch 95/100\n",
      "56/56 [==============================] - 1s 9ms/step - loss: 0.4304 - accuracy: 0.7844 - val_loss: 0.5542 - val_accuracy: 0.7581\n",
      "Epoch 96/100\n",
      "56/56 [==============================] - 0s 9ms/step - loss: 0.4198 - accuracy: 0.7935 - val_loss: 0.5480 - val_accuracy: 0.7581\n",
      "Epoch 97/100\n",
      "56/56 [==============================] - 0s 8ms/step - loss: 0.4108 - accuracy: 0.7826 - val_loss: 0.5697 - val_accuracy: 0.8065\n",
      "Epoch 98/100\n",
      "56/56 [==============================] - 0s 7ms/step - loss: 0.4299 - accuracy: 0.7699 - val_loss: 0.6357 - val_accuracy: 0.7742\n",
      "Epoch 99/100\n",
      "56/56 [==============================] - 1s 9ms/step - loss: 0.4213 - accuracy: 0.7862 - val_loss: 0.5414 - val_accuracy: 0.7419\n",
      "Epoch 100/100\n",
      "56/56 [==============================] - 0s 8ms/step - loss: 0.4362 - accuracy: 0.7935 - val_loss: 0.6189 - val_accuracy: 0.7581\n"
     ]
    }
   ],
   "source": [
    "reg = model.fit(x_train,y_train,validation_split=0.1,batch_size = 10,epochs=100)"
   ]
  },
  {
   "cell_type": "code",
   "execution_count": 20,
   "id": "a0ed5b16",
   "metadata": {},
   "outputs": [
    {
     "name": "stdout",
     "output_type": "stream",
     "text": [
      "5/5 [==============================] - 0s 3ms/step\n"
     ]
    }
   ],
   "source": [
    "y_pred = model.predict(x_test)\n",
    "y_pred = y_pred >0.5"
   ]
  },
  {
   "cell_type": "code",
   "execution_count": 23,
   "id": "cbdb30a8",
   "metadata": {},
   "outputs": [],
   "source": [
    "y_pred1=[]\n",
    "for i in range(len(y_pred)):\n",
    "    if y_pred[i]<0.5:\n",
    "        y_pred1.append(0)\n",
    "    else:\n",
    "        y_pred1.append(1)"
   ]
  },
  {
   "cell_type": "code",
   "execution_count": 24,
   "id": "e12121b5",
   "metadata": {},
   "outputs": [],
   "source": [
    "from sklearn.metrics import confusion_matrix,accuracy_score,classification_report"
   ]
  },
  {
   "cell_type": "code",
   "execution_count": 25,
   "id": "86eb0602",
   "metadata": {},
   "outputs": [
    {
     "data": {
      "text/plain": [
       "array([[75, 24],\n",
       "       [18, 37]], dtype=int64)"
      ]
     },
     "execution_count": 25,
     "metadata": {},
     "output_type": "execute_result"
    }
   ],
   "source": [
    "confusion_matrix(y_test,y_pred1)"
   ]
  },
  {
   "cell_type": "code",
   "execution_count": 26,
   "id": "08c5adb1",
   "metadata": {},
   "outputs": [
    {
     "name": "stdout",
     "output_type": "stream",
     "text": [
      "              precision    recall  f1-score   support\n",
      "\n",
      "           0       0.81      0.76      0.78        99\n",
      "           1       0.61      0.67      0.64        55\n",
      "\n",
      "    accuracy                           0.73       154\n",
      "   macro avg       0.71      0.72      0.71       154\n",
      "weighted avg       0.74      0.73      0.73       154\n",
      "\n"
     ]
    }
   ],
   "source": [
    "print(classification_report(y_test,y_pred1))"
   ]
  },
  {
   "cell_type": "code",
   "execution_count": 27,
   "id": "e662ad78",
   "metadata": {},
   "outputs": [
    {
     "data": {
      "text/plain": [
       "0.7272727272727273"
      ]
     },
     "execution_count": 27,
     "metadata": {},
     "output_type": "execute_result"
    }
   ],
   "source": [
    "accuracy_score(y_test, y_pred1)"
   ]
  },
  {
   "cell_type": "code",
   "execution_count": null,
   "id": "389b6928",
   "metadata": {},
   "outputs": [],
   "source": []
  }
 ],
 "metadata": {
  "kernelspec": {
   "display_name": "Python 3 (ipykernel)",
   "language": "python",
   "name": "python3"
  },
  "language_info": {
   "codemirror_mode": {
    "name": "ipython",
    "version": 3
   },
   "file_extension": ".py",
   "mimetype": "text/x-python",
   "name": "python",
   "nbconvert_exporter": "python",
   "pygments_lexer": "ipython3",
   "version": "3.9.15"
  }
 },
 "nbformat": 4,
 "nbformat_minor": 5
}
